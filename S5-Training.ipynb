{
 "cells": [
  {
   "cell_type": "markdown",
   "metadata": {},
   "source": [
    "## Training\n",
    "We have currently discussed the assessment of re-identification risk through the $k$-anonymity and the evaluation of data utility with respect to predictive performance, as well as the implementation of privacy-preserving techniques (PPTs) for safeguarding personal information. In this section, we will construct a pipeline with all steps of the de-identification process. The main steps for such a pipeline include:\n",
    "\n",
    "- data analysis\n",
    "- selection of proper QIs\n",
    "- re-identification risk analysis\n",
    "- predictive performance analysis\n",
    "- PPTs application\n",
    "- re-analysis of re-identification risk\n",
    "- re-analysis of predictive performance"
   ]
  },
  {
   "cell_type": "markdown",
   "metadata": {},
   "source": [
    "### Data analysis\n"
   ]
  },
  {
   "cell_type": "markdown",
   "metadata": {},
   "source": [
    "For this training, we will use a data set about [cardiovascular disease](https://www.kaggle.com/datasets/captainozlem/framingham-chd-preprocessed-data). "
   ]
  },
  {
   "cell_type": "code",
   "execution_count": 1,
   "metadata": {},
   "outputs": [],
   "source": [
    "# Import the libraries\n",
    "import pandas as pd\n",
    "import numpy as np\n",
    "import matplotlib.pyplot as plt\n",
    "import seaborn as sns\n",
    "\n",
    "from sklearn.preprocessing import StandardScaler\n",
    "from sklearn.model_selection import train_test_split\n",
    "from xgboost import XGBClassifier\n",
    "from sklearn.metrics import accuracy_score, confusion_matrix\n",
    "from sklearn.model_selection import GridSearchCV, StratifiedKFold\n",
    "\n",
    "import warnings\n",
    "warnings.filterwarnings('ignore')"
   ]
  },
  {
   "cell_type": "code",
   "execution_count": 2,
   "metadata": {},
   "outputs": [],
   "source": [
    "# Read data\n",
    "data = pd.read_csv(\"CHD_preprocessed.csv\")"
   ]
  },
  {
   "cell_type": "code",
   "execution_count": 3,
   "metadata": {},
   "outputs": [],
   "source": [
    "# Split the data: the original data will correspond to the training data, and test data will be used to analyze the predictive performance\n",
    "X = data.loc[:,data.columns[:-1]]\n",
    "y = data.loc[:,data.columns[-1]]\n",
    "\n",
    "# Split data\n",
    "X_train, X_test, y_train, y_test = train_test_split(X, y, test_size=0.2, random_state=42)"
   ]
  },
  {
   "cell_type": "code",
   "execution_count": 4,
   "metadata": {},
   "outputs": [
    {
     "data": {
      "text/html": [
       "<div>\n",
       "<style scoped>\n",
       "    .dataframe tbody tr th:only-of-type {\n",
       "        vertical-align: middle;\n",
       "    }\n",
       "\n",
       "    .dataframe tbody tr th {\n",
       "        vertical-align: top;\n",
       "    }\n",
       "\n",
       "    .dataframe thead th {\n",
       "        text-align: right;\n",
       "    }\n",
       "</style>\n",
       "<table border=\"1\" class=\"dataframe\">\n",
       "  <thead>\n",
       "    <tr style=\"text-align: right;\">\n",
       "      <th></th>\n",
       "      <th>male</th>\n",
       "      <th>age</th>\n",
       "      <th>education</th>\n",
       "      <th>currentSmoker</th>\n",
       "      <th>cigsPerDay</th>\n",
       "      <th>BPMeds</th>\n",
       "      <th>prevalentStroke</th>\n",
       "      <th>prevalentHyp</th>\n",
       "      <th>diabetes</th>\n",
       "      <th>totChol</th>\n",
       "      <th>sysBP</th>\n",
       "      <th>diaBP</th>\n",
       "      <th>BMI</th>\n",
       "      <th>heartRate</th>\n",
       "      <th>glucose</th>\n",
       "    </tr>\n",
       "  </thead>\n",
       "  <tbody>\n",
       "    <tr>\n",
       "      <th>173</th>\n",
       "      <td>0</td>\n",
       "      <td>60</td>\n",
       "      <td>1</td>\n",
       "      <td>0</td>\n",
       "      <td>0.0</td>\n",
       "      <td>0.0</td>\n",
       "      <td>0</td>\n",
       "      <td>1</td>\n",
       "      <td>0</td>\n",
       "      <td>325.0</td>\n",
       "      <td>182.0</td>\n",
       "      <td>106.0</td>\n",
       "      <td>27.61</td>\n",
       "      <td>80.0</td>\n",
       "      <td>77.0</td>\n",
       "    </tr>\n",
       "    <tr>\n",
       "      <th>1022</th>\n",
       "      <td>1</td>\n",
       "      <td>42</td>\n",
       "      <td>1</td>\n",
       "      <td>1</td>\n",
       "      <td>20.0</td>\n",
       "      <td>0.0</td>\n",
       "      <td>0</td>\n",
       "      <td>0</td>\n",
       "      <td>0</td>\n",
       "      <td>270.0</td>\n",
       "      <td>112.0</td>\n",
       "      <td>77.0</td>\n",
       "      <td>24.77</td>\n",
       "      <td>73.0</td>\n",
       "      <td>85.0</td>\n",
       "    </tr>\n",
       "    <tr>\n",
       "      <th>3182</th>\n",
       "      <td>1</td>\n",
       "      <td>58</td>\n",
       "      <td>0</td>\n",
       "      <td>0</td>\n",
       "      <td>0.0</td>\n",
       "      <td>0.0</td>\n",
       "      <td>0</td>\n",
       "      <td>0</td>\n",
       "      <td>0</td>\n",
       "      <td>225.0</td>\n",
       "      <td>105.5</td>\n",
       "      <td>74.0</td>\n",
       "      <td>25.68</td>\n",
       "      <td>50.0</td>\n",
       "      <td>93.0</td>\n",
       "    </tr>\n",
       "    <tr>\n",
       "      <th>331</th>\n",
       "      <td>0</td>\n",
       "      <td>58</td>\n",
       "      <td>0</td>\n",
       "      <td>0</td>\n",
       "      <td>0.0</td>\n",
       "      <td>0.0</td>\n",
       "      <td>0</td>\n",
       "      <td>1</td>\n",
       "      <td>0</td>\n",
       "      <td>200.0</td>\n",
       "      <td>158.0</td>\n",
       "      <td>101.0</td>\n",
       "      <td>23.06</td>\n",
       "      <td>85.0</td>\n",
       "      <td>77.0</td>\n",
       "    </tr>\n",
       "    <tr>\n",
       "      <th>2222</th>\n",
       "      <td>1</td>\n",
       "      <td>39</td>\n",
       "      <td>1</td>\n",
       "      <td>0</td>\n",
       "      <td>0.0</td>\n",
       "      <td>0.0</td>\n",
       "      <td>0</td>\n",
       "      <td>1</td>\n",
       "      <td>0</td>\n",
       "      <td>208.0</td>\n",
       "      <td>146.0</td>\n",
       "      <td>92.0</td>\n",
       "      <td>25.91</td>\n",
       "      <td>69.0</td>\n",
       "      <td>74.0</td>\n",
       "    </tr>\n",
       "  </tbody>\n",
       "</table>\n",
       "</div>"
      ],
      "text/plain": [
       "      male  age  education  currentSmoker  cigsPerDay  BPMeds  \\\n",
       "173      0   60          1              0         0.0     0.0   \n",
       "1022     1   42          1              1        20.0     0.0   \n",
       "3182     1   58          0              0         0.0     0.0   \n",
       "331      0   58          0              0         0.0     0.0   \n",
       "2222     1   39          1              0         0.0     0.0   \n",
       "\n",
       "      prevalentStroke  prevalentHyp  diabetes  totChol  sysBP  diaBP    BMI  \\\n",
       "173                 0             1         0    325.0  182.0  106.0  27.61   \n",
       "1022                0             0         0    270.0  112.0   77.0  24.77   \n",
       "3182                0             0         0    225.0  105.5   74.0  25.68   \n",
       "331                 0             1         0    200.0  158.0  101.0  23.06   \n",
       "2222                0             1         0    208.0  146.0   92.0  25.91   \n",
       "\n",
       "      heartRate  glucose  \n",
       "173        80.0     77.0  \n",
       "1022       73.0     85.0  \n",
       "3182       50.0     93.0  \n",
       "331        85.0     77.0  \n",
       "2222       69.0     74.0  "
      ]
     },
     "execution_count": 4,
     "metadata": {},
     "output_type": "execute_result"
    }
   ],
   "source": [
    "X_train.head()"
   ]
  },
  {
   "cell_type": "code",
   "execution_count": 5,
   "metadata": {},
   "outputs": [
    {
     "name": "stdout",
     "output_type": "stream",
     "text": [
      "<class 'pandas.core.frame.DataFrame'>\n",
      "Int64Index: 3306 entries, 173 to 860\n",
      "Data columns (total 15 columns):\n",
      " #   Column           Non-Null Count  Dtype  \n",
      "---  ------           --------------  -----  \n",
      " 0   male             3306 non-null   int64  \n",
      " 1   age              3306 non-null   int64  \n",
      " 2   education        3306 non-null   int64  \n",
      " 3   currentSmoker    3306 non-null   int64  \n",
      " 4   cigsPerDay       3306 non-null   float64\n",
      " 5   BPMeds           3306 non-null   float64\n",
      " 6   prevalentStroke  3306 non-null   int64  \n",
      " 7   prevalentHyp     3306 non-null   int64  \n",
      " 8   diabetes         3306 non-null   int64  \n",
      " 9   totChol          3306 non-null   float64\n",
      " 10  sysBP            3306 non-null   float64\n",
      " 11  diaBP            3306 non-null   float64\n",
      " 12  BMI              3306 non-null   float64\n",
      " 13  heartRate        3306 non-null   float64\n",
      " 14  glucose          3306 non-null   float64\n",
      "dtypes: float64(8), int64(7)\n",
      "memory usage: 413.2 KB\n"
     ]
    }
   ],
   "source": [
    "X_train.info()"
   ]
  },
  {
   "cell_type": "markdown",
   "metadata": {},
   "source": [
    "### QIs selection: *male, age,education, currentSmoker and diabetes*"
   ]
  },
  {
   "cell_type": "code",
   "execution_count": 6,
   "metadata": {},
   "outputs": [
    {
     "data": {
      "text/html": [
       "<div>\n",
       "<style scoped>\n",
       "    .dataframe tbody tr th:only-of-type {\n",
       "        vertical-align: middle;\n",
       "    }\n",
       "\n",
       "    .dataframe tbody tr th {\n",
       "        vertical-align: top;\n",
       "    }\n",
       "\n",
       "    .dataframe thead th {\n",
       "        text-align: right;\n",
       "    }\n",
       "</style>\n",
       "<table border=\"1\" class=\"dataframe\">\n",
       "  <thead>\n",
       "    <tr style=\"text-align: right;\">\n",
       "      <th></th>\n",
       "      <th>male</th>\n",
       "      <th>age</th>\n",
       "      <th>education</th>\n",
       "      <th>currentSmoker</th>\n",
       "      <th>diabetes</th>\n",
       "    </tr>\n",
       "  </thead>\n",
       "  <tbody>\n",
       "    <tr>\n",
       "      <th>count</th>\n",
       "      <td>3306.000000</td>\n",
       "      <td>3306.000000</td>\n",
       "      <td>3306.000000</td>\n",
       "      <td>3306.000000</td>\n",
       "      <td>3306.000000</td>\n",
       "    </tr>\n",
       "    <tr>\n",
       "      <th>mean</th>\n",
       "      <td>0.423775</td>\n",
       "      <td>49.571385</td>\n",
       "      <td>0.283122</td>\n",
       "      <td>0.493043</td>\n",
       "      <td>0.023593</td>\n",
       "    </tr>\n",
       "    <tr>\n",
       "      <th>std</th>\n",
       "      <td>0.494230</td>\n",
       "      <td>8.543413</td>\n",
       "      <td>0.450583</td>\n",
       "      <td>0.500027</td>\n",
       "      <td>0.151802</td>\n",
       "    </tr>\n",
       "    <tr>\n",
       "      <th>min</th>\n",
       "      <td>0.000000</td>\n",
       "      <td>32.000000</td>\n",
       "      <td>0.000000</td>\n",
       "      <td>0.000000</td>\n",
       "      <td>0.000000</td>\n",
       "    </tr>\n",
       "    <tr>\n",
       "      <th>25%</th>\n",
       "      <td>0.000000</td>\n",
       "      <td>42.000000</td>\n",
       "      <td>0.000000</td>\n",
       "      <td>0.000000</td>\n",
       "      <td>0.000000</td>\n",
       "    </tr>\n",
       "    <tr>\n",
       "      <th>50%</th>\n",
       "      <td>0.000000</td>\n",
       "      <td>49.000000</td>\n",
       "      <td>0.000000</td>\n",
       "      <td>0.000000</td>\n",
       "      <td>0.000000</td>\n",
       "    </tr>\n",
       "    <tr>\n",
       "      <th>75%</th>\n",
       "      <td>1.000000</td>\n",
       "      <td>56.000000</td>\n",
       "      <td>1.000000</td>\n",
       "      <td>1.000000</td>\n",
       "      <td>0.000000</td>\n",
       "    </tr>\n",
       "    <tr>\n",
       "      <th>max</th>\n",
       "      <td>1.000000</td>\n",
       "      <td>69.000000</td>\n",
       "      <td>1.000000</td>\n",
       "      <td>1.000000</td>\n",
       "      <td>1.000000</td>\n",
       "    </tr>\n",
       "  </tbody>\n",
       "</table>\n",
       "</div>"
      ],
      "text/plain": [
       "              male          age    education  currentSmoker     diabetes\n",
       "count  3306.000000  3306.000000  3306.000000    3306.000000  3306.000000\n",
       "mean      0.423775    49.571385     0.283122       0.493043     0.023593\n",
       "std       0.494230     8.543413     0.450583       0.500027     0.151802\n",
       "min       0.000000    32.000000     0.000000       0.000000     0.000000\n",
       "25%       0.000000    42.000000     0.000000       0.000000     0.000000\n",
       "50%       0.000000    49.000000     0.000000       0.000000     0.000000\n",
       "75%       1.000000    56.000000     1.000000       1.000000     0.000000\n",
       "max       1.000000    69.000000     1.000000       1.000000     1.000000"
      ]
     },
     "execution_count": 6,
     "metadata": {},
     "output_type": "execute_result"
    }
   ],
   "source": [
    "X_train[['male', 'age', 'education', 'currentSmoker', 'diabetes']].describe()"
   ]
  },
  {
   "cell_type": "code",
   "execution_count": 7,
   "metadata": {},
   "outputs": [],
   "source": [
    "# Compute percentage of age\n",
    "age_per = round((X_train['age'].value_counts()/X_train['age'].count())*100,2)\n",
    "age_per = age_per.sort_index()"
   ]
  },
  {
   "cell_type": "code",
   "execution_count": 8,
   "metadata": {},
   "outputs": [
    {
     "data": {
      "image/png": "[encoded data removed]",
      "text/plain": [
       "<Figure size 1500x400 with 1 Axes>"
      ]
     },
     "metadata": {},
     "output_type": "display_data"
    }
   ],
   "source": [
    "# Histplot of age\n",
    "sns.set_theme(style=\"darkgrid\")\n",
    "fig = plt.figure(figsize=(15, 4))\n",
    "ax = sns.histplot(data, x=\"age\", bins=X_train['age'].nunique())\n",
    "ax.set_xlabel('Age')\n",
    "ax.set_title('Age distribution')\n",
    "sns.set(font_scale=0.7)\n",
    "i=0\n",
    "for p in ax.patches:\n",
    "    height = p.get_height()\n",
    "    ax.text(p.get_x()+p.get_width()/2., height + 0.1,\n",
    "        age_per.to_list()[i],ha=\"center\")\n",
    "    i += 1\n",
    "plt.show()"
   ]
  },
  {
   "cell_type": "markdown",
   "metadata": {},
   "source": [
    "Typically, the individuals at the tails of the curve are considered at risk as the concentration of individuals is lower."
   ]
  },
  {
   "cell_type": "code",
   "execution_count": 9,
   "metadata": {},
   "outputs": [
    {
     "data": {
      "image/png": "[encoded data removed]",
      "text/plain": [
       "<Figure size 1200x300 with 4 Axes>"
      ]
     },
     "metadata": {},
     "output_type": "display_data"
    }
   ],
   "source": [
    "# Histplot for all binary QI\n",
    "fig, axes = plt.subplots(1, 4, figsize=(12,3))\n",
    "sns.countplot(ax=axes[0],data=X_train, x=\"male\")\n",
    "sns.countplot(ax=axes[1],data=X_train, x=\"education\")\n",
    "sns.countplot(ax=axes[2],data=X_train, x=\"currentSmoker\")\n",
    "sns.countplot(ax=axes[3],data=X_train, x=\"diabetes\")\n",
    "axes[0].set_xlabel(\"Gender\")\n",
    "axes[1].set_xlabel(\"Education\")\n",
    "axes[2].set_xlabel(\"Current smoker\")\n",
    "axes[3].set_xlabel(\"Diabetes\")\n",
    "axes[0].set_ylabel('')\n",
    "axes[1].set_ylabel('')\n",
    "axes[2].set_ylabel('')\n",
    "axes[3].set_ylabel('')\n",
    "plt.xticks(rotation=45)\n",
    "plt.show()"
   ]
  },
  {
   "cell_type": "markdown",
   "metadata": {},
   "source": [
    "As fewer individuals have diabetes it is critical to protect their privacy!"
   ]
  },
  {
   "cell_type": "markdown",
   "metadata": {},
   "source": [
    "### Initial re-identification risk"
   ]
  },
  {
   "cell_type": "code",
   "execution_count": 10,
   "metadata": {},
   "outputs": [],
   "source": [
    "# Define a function to calculate the percentage of single outs concerning the selected QIs\n",
    "def identity_risk(qi, df):\n",
    "    '''\n",
    "    Calculate the percentage of re-identification risk\n",
    "    qi (list of strings): set of quasi-identifiers\n",
    "    df (dataframe): data\n",
    "    '''\n",
    "    fk = df.groupby(qi)[qi[0]].transform('size')\n",
    "    print('risk = ' + str(round((sum([i for i in fk if i==1]) * 100) / len(df),2))+ '%; fk1 = ' + str(sum([i for i in fk if i==1])))"
   ]
  },
  {
   "cell_type": "code",
   "execution_count": 11,
   "metadata": {},
   "outputs": [
    {
     "name": "stdout",
     "output_type": "stream",
     "text": [
      "risk = 0.06%; fk1 = 2\n"
     ]
    }
   ],
   "source": [
    "identity_risk(['male', 'age'], X_train)"
   ]
  },
  {
   "cell_type": "code",
   "execution_count": 12,
   "metadata": {},
   "outputs": [
    {
     "data": {
      "text/html": [
       "<div>\n",
       "<style scoped>\n",
       "    .dataframe tbody tr th:only-of-type {\n",
       "        vertical-align: middle;\n",
       "    }\n",
       "\n",
       "    .dataframe tbody tr th {\n",
       "        vertical-align: top;\n",
       "    }\n",
       "\n",
       "    .dataframe thead th {\n",
       "        text-align: right;\n",
       "    }\n",
       "</style>\n",
       "<table border=\"1\" class=\"dataframe\">\n",
       "  <thead>\n",
       "    <tr style=\"text-align: right;\">\n",
       "      <th></th>\n",
       "      <th>male</th>\n",
       "      <th>age</th>\n",
       "      <th>education</th>\n",
       "      <th>currentSmoker</th>\n",
       "      <th>cigsPerDay</th>\n",
       "      <th>BPMeds</th>\n",
       "      <th>prevalentStroke</th>\n",
       "      <th>prevalentHyp</th>\n",
       "      <th>diabetes</th>\n",
       "      <th>totChol</th>\n",
       "      <th>sysBP</th>\n",
       "      <th>diaBP</th>\n",
       "      <th>BMI</th>\n",
       "      <th>heartRate</th>\n",
       "      <th>glucose</th>\n",
       "    </tr>\n",
       "  </thead>\n",
       "  <tbody>\n",
       "    <tr>\n",
       "      <th>2986</th>\n",
       "      <td>1</td>\n",
       "      <td>33</td>\n",
       "      <td>1</td>\n",
       "      <td>0</td>\n",
       "      <td>0.0</td>\n",
       "      <td>0.0</td>\n",
       "      <td>0</td>\n",
       "      <td>0</td>\n",
       "      <td>0</td>\n",
       "      <td>165.0</td>\n",
       "      <td>136.0</td>\n",
       "      <td>75.0</td>\n",
       "      <td>24.95</td>\n",
       "      <td>88.0</td>\n",
       "      <td>90.0</td>\n",
       "    </tr>\n",
       "    <tr>\n",
       "      <th>2304</th>\n",
       "      <td>0</td>\n",
       "      <td>32</td>\n",
       "      <td>0</td>\n",
       "      <td>1</td>\n",
       "      <td>15.0</td>\n",
       "      <td>0.0</td>\n",
       "      <td>0</td>\n",
       "      <td>0</td>\n",
       "      <td>0</td>\n",
       "      <td>242.0</td>\n",
       "      <td>111.0</td>\n",
       "      <td>70.0</td>\n",
       "      <td>29.84</td>\n",
       "      <td>80.0</td>\n",
       "      <td>88.0</td>\n",
       "    </tr>\n",
       "  </tbody>\n",
       "</table>\n",
       "</div>"
      ],
      "text/plain": [
       "      male  age  education  currentSmoker  cigsPerDay  BPMeds  \\\n",
       "2986     1   33          1              0         0.0     0.0   \n",
       "2304     0   32          0              1        15.0     0.0   \n",
       "\n",
       "      prevalentStroke  prevalentHyp  diabetes  totChol  sysBP  diaBP    BMI  \\\n",
       "2986                0             0         0    165.0  136.0   75.0  24.95   \n",
       "2304                0             0         0    242.0  111.0   70.0  29.84   \n",
       "\n",
       "      heartRate  glucose  \n",
       "2986       88.0     90.0  \n",
       "2304       80.0     88.0  "
      ]
     },
     "execution_count": 12,
     "metadata": {},
     "output_type": "execute_result"
    }
   ],
   "source": [
    "# Analyze the cases in age and sex with fk=1\n",
    "X_train.loc[(X_train.groupby(['male', 'age']).transform('size')==1)]"
   ]
  },
  {
   "cell_type": "code",
   "execution_count": 13,
   "metadata": {},
   "outputs": [
    {
     "name": "stdout",
     "output_type": "stream",
     "text": [
      "risk = 0.21%; fk1 = 7\n"
     ]
    }
   ],
   "source": [
    "identity_risk(['male', 'age', 'education'], X_train)"
   ]
  },
  {
   "cell_type": "code",
   "execution_count": 14,
   "metadata": {},
   "outputs": [
    {
     "name": "stdout",
     "output_type": "stream",
     "text": [
      "risk = 0.45%; fk1 = 15\n"
     ]
    }
   ],
   "source": [
    "identity_risk(['male', 'age', 'education', 'currentSmoker'], X_train)"
   ]
  },
  {
   "cell_type": "code",
   "execution_count": 15,
   "metadata": {},
   "outputs": [
    {
     "name": "stdout",
     "output_type": "stream",
     "text": [
      "risk = 1.97%; fk1 = 65\n"
     ]
    }
   ],
   "source": [
    "identity_risk(['male', 'age', 'education', 'currentSmoker', 'diabetes'], X_train)"
   ]
  },
  {
   "cell_type": "markdown",
   "metadata": {},
   "source": [
    "### Initial data utility w.r.t predictive performance"
   ]
  },
  {
   "cell_type": "code",
   "execution_count": 18,
   "metadata": {},
   "outputs": [],
   "source": [
    "def modeling(X_train, X_test, y_train):\n",
    "    '''\n",
    "    Prediction with Random Forest\n",
    "    df (Dataframe): data for modeling\n",
    "    '''\n",
    "    # encoded_data = pd.get_dummies(X_train, drop_first=True).astype(int)\n",
    "\n",
    "    # Scale data\n",
    "    sc = StandardScaler()\n",
    "    X_train = sc.fit_transform(X_train)\n",
    "    X_test = sc.fit_transform (X_test)\n",
    "    \n",
    "    # Initiate models\n",
    "    seed = np.random.seed(1234)\n",
    "    xgb = XGBClassifier(objective='binary:logistic', eval_metric='logloss', use_label_encoder=False, random_state=seed)\n",
    "\n",
    "    # Set parameters\n",
    "    param_grid_xgb = {\n",
    "        'n_estimators': [100, 250, 500],\n",
    "        'max_depth': [4, 6, 8, 10],\n",
    "        'learning_rate': [0.1, 0.01, 0.001]\n",
    "    }\n",
    "    \n",
    "    # Fit the parameter grid with 5-fold cross validation\n",
    "    gs_rf = GridSearchCV(estimator=xgb, param_grid=param_grid_xgb, cv=5, scoring='accuracy').fit(X_train, y_train)\n",
    "    \n",
    "    # Predict on test data with best params\n",
    "    y_pred = gs_rf.predict(X_test)\n",
    "    \n",
    "    return y_pred"
   ]
  },
  {
   "cell_type": "code",
   "execution_count": 19,
   "metadata": {},
   "outputs": [],
   "source": [
    "initial_preds = modeling(X_train, X_test, y_train)"
   ]
  },
  {
   "cell_type": "code",
   "execution_count": 20,
   "metadata": {},
   "outputs": [
    {
     "data": {
      "text/plain": [
       "0.8234582829504232"
      ]
     },
     "execution_count": 20,
     "metadata": {},
     "output_type": "execute_result"
    }
   ],
   "source": [
    "accuracy_score(y_test, initial_preds)"
   ]
  },
  {
   "cell_type": "markdown",
   "metadata": {},
   "source": [
    "### PPTs application\n"
   ]
  },
  {
   "cell_type": "code",
   "execution_count": 430,
   "metadata": {},
   "outputs": [],
   "source": [
    "data_transf = X_train.copy().reset_index(drop=True)"
   ]
  },
  {
   "cell_type": "code",
   "execution_count": 431,
   "metadata": {},
   "outputs": [],
   "source": [
    "# Apply generalization (global recoding)\n",
    "def generalization(df, column, interval):\n",
    "    '''\n",
    "    Generalize integer attributes by applying the lowest value of the interval\n",
    "    df: dataframe\n",
    "    column (string): name of the column to transform\n",
    "    interval (interger): limit of the interval \n",
    "    '''\n",
    "    bins = list(range(min(df[column])-(min(df[column])%interval), max(df[column]) + interval, interval))\n",
    "    labels = ['%d' % bins[i] for i in range(0, len(bins) - 1)]\n",
    "    lab = pd.cut(df[column], bins=bins, labels=labels, include_lowest=True).astype(int)\n",
    "    for i in range(0, len(data_transf)):\n",
    "        df.loc[i, column+str(interval)] = lab[i]\n",
    "    return df"
   ]
  },
  {
   "cell_type": "code",
   "execution_count": 432,
   "metadata": {},
   "outputs": [],
   "source": [
    "data_transf = generalization(data_transf, 'age', 2)"
   ]
  },
  {
   "cell_type": "code",
   "execution_count": 433,
   "metadata": {},
   "outputs": [
    {
     "name": "stdout",
     "output_type": "stream",
     "text": [
      "risk = 0.0%; fk1 = 0\n"
     ]
    }
   ],
   "source": [
    "identity_risk(['male', 'age2'], data_transf)"
   ]
  },
  {
   "cell_type": "code",
   "execution_count": 434,
   "metadata": {},
   "outputs": [
    {
     "name": "stdout",
     "output_type": "stream",
     "text": [
      "risk = 0.06%; fk1 = 2\n"
     ]
    }
   ],
   "source": [
    "identity_risk(['male', 'age2', 'education'], data_transf)"
   ]
  },
  {
   "cell_type": "code",
   "execution_count": 435,
   "metadata": {},
   "outputs": [
    {
     "name": "stdout",
     "output_type": "stream",
     "text": [
      "risk = 0.15%; fk1 = 5\n"
     ]
    }
   ],
   "source": [
    "identity_risk(['male', 'age2', 'education', 'currentSmoker'], data_transf)"
   ]
  },
  {
   "cell_type": "code",
   "execution_count": 436,
   "metadata": {},
   "outputs": [
    {
     "name": "stdout",
     "output_type": "stream",
     "text": [
      "risk = 1.33%; fk1 = 44\n"
     ]
    }
   ],
   "source": [
    "identity_risk(['male', 'age2', 'education', 'currentSmoker', 'diabetes'], data_transf)"
   ]
  },
  {
   "cell_type": "markdown",
   "metadata": {},
   "source": [
    "Given the fact of the majority of the QIs being binary, the best transformation is applying a higher generalization on *age*."
   ]
  },
  {
   "cell_type": "code",
   "execution_count": 437,
   "metadata": {},
   "outputs": [],
   "source": [
    "data_transf = generalization(data_transf, 'age', 3)"
   ]
  },
  {
   "cell_type": "code",
   "execution_count": 438,
   "metadata": {},
   "outputs": [
    {
     "name": "stdout",
     "output_type": "stream",
     "text": [
      "risk = 0.06%; fk1 = 2\n"
     ]
    }
   ],
   "source": [
    "identity_risk(['male', 'age3', 'education'], data_transf)"
   ]
  },
  {
   "cell_type": "code",
   "execution_count": 439,
   "metadata": {},
   "outputs": [
    {
     "name": "stdout",
     "output_type": "stream",
     "text": [
      "risk = 1.12%; fk1 = 37\n"
     ]
    }
   ],
   "source": [
    "identity_risk(['male', 'age3', 'education', 'currentSmoker', 'diabetes'], data_transf)"
   ]
  },
  {
   "cell_type": "code",
   "execution_count": 440,
   "metadata": {},
   "outputs": [],
   "source": [
    "# Increase the range\n",
    "data_transf = generalization(data_transf, 'age', 5)\n",
    "data_transf.age5 = data_transf.age5.apply(lambda x: int(x))"
   ]
  },
  {
   "cell_type": "code",
   "execution_count": 441,
   "metadata": {},
   "outputs": [
    {
     "name": "stdout",
     "output_type": "stream",
     "text": [
      "risk = 0.0%; fk1 = 0\n"
     ]
    }
   ],
   "source": [
    "identity_risk(['male', 'age5', 'education'], data_transf)"
   ]
  },
  {
   "cell_type": "code",
   "execution_count": 442,
   "metadata": {},
   "outputs": [
    {
     "name": "stdout",
     "output_type": "stream",
     "text": [
      "risk = 0.06%; fk1 = 2\n"
     ]
    }
   ],
   "source": [
    "identity_risk(['male', 'age5', 'education', 'currentSmoker'], data_transf)"
   ]
  },
  {
   "cell_type": "code",
   "execution_count": 443,
   "metadata": {},
   "outputs": [
    {
     "name": "stdout",
     "output_type": "stream",
     "text": [
      "risk = 0.73%; fk1 = 24\n"
     ]
    }
   ],
   "source": [
    "identity_risk(['male', 'age5', 'education', 'currentSmoker', 'diabetes'], data_transf)"
   ]
  },
  {
   "cell_type": "code",
   "execution_count": 444,
   "metadata": {},
   "outputs": [
    {
     "data": {
      "text/html": [
       "<div>\n",
       "<style scoped>\n",
       "    .dataframe tbody tr th:only-of-type {\n",
       "        vertical-align: middle;\n",
       "    }\n",
       "\n",
       "    .dataframe tbody tr th {\n",
       "        vertical-align: top;\n",
       "    }\n",
       "\n",
       "    .dataframe thead th {\n",
       "        text-align: right;\n",
       "    }\n",
       "</style>\n",
       "<table border=\"1\" class=\"dataframe\">\n",
       "  <thead>\n",
       "    <tr style=\"text-align: right;\">\n",
       "      <th></th>\n",
       "      <th>male</th>\n",
       "      <th>age</th>\n",
       "      <th>education</th>\n",
       "      <th>currentSmoker</th>\n",
       "      <th>cigsPerDay</th>\n",
       "      <th>BPMeds</th>\n",
       "      <th>prevalentStroke</th>\n",
       "      <th>prevalentHyp</th>\n",
       "      <th>diabetes</th>\n",
       "      <th>totChol</th>\n",
       "      <th>sysBP</th>\n",
       "      <th>diaBP</th>\n",
       "      <th>BMI</th>\n",
       "      <th>heartRate</th>\n",
       "      <th>glucose</th>\n",
       "      <th>age2</th>\n",
       "      <th>age3</th>\n",
       "      <th>age5</th>\n",
       "    </tr>\n",
       "  </thead>\n",
       "  <tbody>\n",
       "    <tr>\n",
       "      <th>12</th>\n",
       "      <td>0</td>\n",
       "      <td>43</td>\n",
       "      <td>0</td>\n",
       "      <td>0</td>\n",
       "      <td>0.0</td>\n",
       "      <td>0.0</td>\n",
       "      <td>0</td>\n",
       "      <td>1</td>\n",
       "      <td>1</td>\n",
       "      <td>231.0</td>\n",
       "      <td>155.5</td>\n",
       "      <td>99.5</td>\n",
       "      <td>34.95</td>\n",
       "      <td>68.0</td>\n",
       "      <td>274.0</td>\n",
       "      <td>42.0</td>\n",
       "      <td>42.0</td>\n",
       "      <td>40</td>\n",
       "    </tr>\n",
       "    <tr>\n",
       "      <th>135</th>\n",
       "      <td>1</td>\n",
       "      <td>49</td>\n",
       "      <td>0</td>\n",
       "      <td>0</td>\n",
       "      <td>0.0</td>\n",
       "      <td>0.0</td>\n",
       "      <td>0</td>\n",
       "      <td>0</td>\n",
       "      <td>1</td>\n",
       "      <td>248.0</td>\n",
       "      <td>130.5</td>\n",
       "      <td>82.0</td>\n",
       "      <td>27.29</td>\n",
       "      <td>52.0</td>\n",
       "      <td>254.0</td>\n",
       "      <td>48.0</td>\n",
       "      <td>48.0</td>\n",
       "      <td>45</td>\n",
       "    </tr>\n",
       "    <tr>\n",
       "      <th>208</th>\n",
       "      <td>1</td>\n",
       "      <td>66</td>\n",
       "      <td>0</td>\n",
       "      <td>1</td>\n",
       "      <td>30.0</td>\n",
       "      <td>0.0</td>\n",
       "      <td>0</td>\n",
       "      <td>0</td>\n",
       "      <td>1</td>\n",
       "      <td>234.0</td>\n",
       "      <td>114.5</td>\n",
       "      <td>62.5</td>\n",
       "      <td>28.62</td>\n",
       "      <td>75.0</td>\n",
       "      <td>216.0</td>\n",
       "      <td>64.0</td>\n",
       "      <td>63.0</td>\n",
       "      <td>65</td>\n",
       "    </tr>\n",
       "    <tr>\n",
       "      <th>314</th>\n",
       "      <td>1</td>\n",
       "      <td>33</td>\n",
       "      <td>1</td>\n",
       "      <td>0</td>\n",
       "      <td>0.0</td>\n",
       "      <td>0.0</td>\n",
       "      <td>0</td>\n",
       "      <td>0</td>\n",
       "      <td>0</td>\n",
       "      <td>165.0</td>\n",
       "      <td>136.0</td>\n",
       "      <td>75.0</td>\n",
       "      <td>24.95</td>\n",
       "      <td>88.0</td>\n",
       "      <td>90.0</td>\n",
       "      <td>32.0</td>\n",
       "      <td>30.0</td>\n",
       "      <td>30</td>\n",
       "    </tr>\n",
       "    <tr>\n",
       "      <th>796</th>\n",
       "      <td>1</td>\n",
       "      <td>44</td>\n",
       "      <td>0</td>\n",
       "      <td>0</td>\n",
       "      <td>0.0</td>\n",
       "      <td>0.0</td>\n",
       "      <td>0</td>\n",
       "      <td>1</td>\n",
       "      <td>1</td>\n",
       "      <td>208.0</td>\n",
       "      <td>175.0</td>\n",
       "      <td>101.0</td>\n",
       "      <td>27.93</td>\n",
       "      <td>95.0</td>\n",
       "      <td>193.0</td>\n",
       "      <td>42.0</td>\n",
       "      <td>42.0</td>\n",
       "      <td>40</td>\n",
       "    </tr>\n",
       "    <tr>\n",
       "      <th>869</th>\n",
       "      <td>1</td>\n",
       "      <td>66</td>\n",
       "      <td>1</td>\n",
       "      <td>1</td>\n",
       "      <td>20.0</td>\n",
       "      <td>0.0</td>\n",
       "      <td>0</td>\n",
       "      <td>1</td>\n",
       "      <td>0</td>\n",
       "      <td>273.0</td>\n",
       "      <td>145.0</td>\n",
       "      <td>88.0</td>\n",
       "      <td>25.41</td>\n",
       "      <td>69.0</td>\n",
       "      <td>74.0</td>\n",
       "      <td>64.0</td>\n",
       "      <td>63.0</td>\n",
       "      <td>65</td>\n",
       "    </tr>\n",
       "    <tr>\n",
       "      <th>927</th>\n",
       "      <td>1</td>\n",
       "      <td>64</td>\n",
       "      <td>1</td>\n",
       "      <td>0</td>\n",
       "      <td>0.0</td>\n",
       "      <td>0.0</td>\n",
       "      <td>0</td>\n",
       "      <td>0</td>\n",
       "      <td>1</td>\n",
       "      <td>251.0</td>\n",
       "      <td>133.0</td>\n",
       "      <td>72.5</td>\n",
       "      <td>24.28</td>\n",
       "      <td>65.0</td>\n",
       "      <td>86.0</td>\n",
       "      <td>62.0</td>\n",
       "      <td>63.0</td>\n",
       "      <td>60</td>\n",
       "    </tr>\n",
       "    <tr>\n",
       "      <th>941</th>\n",
       "      <td>0</td>\n",
       "      <td>39</td>\n",
       "      <td>1</td>\n",
       "      <td>0</td>\n",
       "      <td>0.0</td>\n",
       "      <td>0.0</td>\n",
       "      <td>0</td>\n",
       "      <td>0</td>\n",
       "      <td>1</td>\n",
       "      <td>209.0</td>\n",
       "      <td>104.0</td>\n",
       "      <td>72.0</td>\n",
       "      <td>23.96</td>\n",
       "      <td>90.0</td>\n",
       "      <td>103.0</td>\n",
       "      <td>38.0</td>\n",
       "      <td>36.0</td>\n",
       "      <td>35</td>\n",
       "    </tr>\n",
       "    <tr>\n",
       "      <th>959</th>\n",
       "      <td>1</td>\n",
       "      <td>45</td>\n",
       "      <td>1</td>\n",
       "      <td>0</td>\n",
       "      <td>0.0</td>\n",
       "      <td>0.0</td>\n",
       "      <td>0</td>\n",
       "      <td>0</td>\n",
       "      <td>1</td>\n",
       "      <td>189.0</td>\n",
       "      <td>132.0</td>\n",
       "      <td>78.0</td>\n",
       "      <td>28.40</td>\n",
       "      <td>75.0</td>\n",
       "      <td>177.0</td>\n",
       "      <td>44.0</td>\n",
       "      <td>42.0</td>\n",
       "      <td>40</td>\n",
       "    </tr>\n",
       "    <tr>\n",
       "      <th>1106</th>\n",
       "      <td>1</td>\n",
       "      <td>62</td>\n",
       "      <td>0</td>\n",
       "      <td>1</td>\n",
       "      <td>20.0</td>\n",
       "      <td>0.0</td>\n",
       "      <td>0</td>\n",
       "      <td>1</td>\n",
       "      <td>1</td>\n",
       "      <td>194.0</td>\n",
       "      <td>151.5</td>\n",
       "      <td>88.0</td>\n",
       "      <td>21.61</td>\n",
       "      <td>75.0</td>\n",
       "      <td>105.0</td>\n",
       "      <td>60.0</td>\n",
       "      <td>60.0</td>\n",
       "      <td>60</td>\n",
       "    </tr>\n",
       "    <tr>\n",
       "      <th>1176</th>\n",
       "      <td>0</td>\n",
       "      <td>50</td>\n",
       "      <td>1</td>\n",
       "      <td>1</td>\n",
       "      <td>9.0</td>\n",
       "      <td>0.0</td>\n",
       "      <td>0</td>\n",
       "      <td>0</td>\n",
       "      <td>1</td>\n",
       "      <td>210.0</td>\n",
       "      <td>134.0</td>\n",
       "      <td>80.0</td>\n",
       "      <td>18.26</td>\n",
       "      <td>64.0</td>\n",
       "      <td>82.0</td>\n",
       "      <td>48.0</td>\n",
       "      <td>48.0</td>\n",
       "      <td>45</td>\n",
       "    </tr>\n",
       "    <tr>\n",
       "      <th>1617</th>\n",
       "      <td>1</td>\n",
       "      <td>59</td>\n",
       "      <td>0</td>\n",
       "      <td>1</td>\n",
       "      <td>3.0</td>\n",
       "      <td>0.0</td>\n",
       "      <td>0</td>\n",
       "      <td>1</td>\n",
       "      <td>1</td>\n",
       "      <td>230.0</td>\n",
       "      <td>182.0</td>\n",
       "      <td>102.0</td>\n",
       "      <td>25.91</td>\n",
       "      <td>66.0</td>\n",
       "      <td>147.0</td>\n",
       "      <td>58.0</td>\n",
       "      <td>57.0</td>\n",
       "      <td>55</td>\n",
       "    </tr>\n",
       "    <tr>\n",
       "      <th>1668</th>\n",
       "      <td>0</td>\n",
       "      <td>60</td>\n",
       "      <td>0</td>\n",
       "      <td>1</td>\n",
       "      <td>20.0</td>\n",
       "      <td>0.0</td>\n",
       "      <td>0</td>\n",
       "      <td>0</td>\n",
       "      <td>1</td>\n",
       "      <td>180.0</td>\n",
       "      <td>200.0</td>\n",
       "      <td>122.5</td>\n",
       "      <td>44.27</td>\n",
       "      <td>88.0</td>\n",
       "      <td>150.0</td>\n",
       "      <td>58.0</td>\n",
       "      <td>57.0</td>\n",
       "      <td>55</td>\n",
       "    </tr>\n",
       "    <tr>\n",
       "      <th>1904</th>\n",
       "      <td>0</td>\n",
       "      <td>59</td>\n",
       "      <td>1</td>\n",
       "      <td>1</td>\n",
       "      <td>15.0</td>\n",
       "      <td>0.0</td>\n",
       "      <td>0</td>\n",
       "      <td>0</td>\n",
       "      <td>1</td>\n",
       "      <td>342.0</td>\n",
       "      <td>137.0</td>\n",
       "      <td>83.5</td>\n",
       "      <td>25.18</td>\n",
       "      <td>86.0</td>\n",
       "      <td>140.0</td>\n",
       "      <td>58.0</td>\n",
       "      <td>57.0</td>\n",
       "      <td>55</td>\n",
       "    </tr>\n",
       "    <tr>\n",
       "      <th>1943</th>\n",
       "      <td>0</td>\n",
       "      <td>44</td>\n",
       "      <td>1</td>\n",
       "      <td>0</td>\n",
       "      <td>0.0</td>\n",
       "      <td>0.0</td>\n",
       "      <td>0</td>\n",
       "      <td>1</td>\n",
       "      <td>1</td>\n",
       "      <td>254.0</td>\n",
       "      <td>145.0</td>\n",
       "      <td>85.0</td>\n",
       "      <td>21.27</td>\n",
       "      <td>75.0</td>\n",
       "      <td>137.0</td>\n",
       "      <td>42.0</td>\n",
       "      <td>42.0</td>\n",
       "      <td>40</td>\n",
       "    </tr>\n",
       "    <tr>\n",
       "      <th>2103</th>\n",
       "      <td>1</td>\n",
       "      <td>57</td>\n",
       "      <td>1</td>\n",
       "      <td>1</td>\n",
       "      <td>15.0</td>\n",
       "      <td>0.0</td>\n",
       "      <td>0</td>\n",
       "      <td>0</td>\n",
       "      <td>1</td>\n",
       "      <td>245.0</td>\n",
       "      <td>132.0</td>\n",
       "      <td>77.0</td>\n",
       "      <td>23.01</td>\n",
       "      <td>76.0</td>\n",
       "      <td>207.0</td>\n",
       "      <td>56.0</td>\n",
       "      <td>54.0</td>\n",
       "      <td>55</td>\n",
       "    </tr>\n",
       "    <tr>\n",
       "      <th>2163</th>\n",
       "      <td>0</td>\n",
       "      <td>40</td>\n",
       "      <td>0</td>\n",
       "      <td>1</td>\n",
       "      <td>20.0</td>\n",
       "      <td>0.0</td>\n",
       "      <td>0</td>\n",
       "      <td>0</td>\n",
       "      <td>1</td>\n",
       "      <td>237.0</td>\n",
       "      <td>114.0</td>\n",
       "      <td>65.0</td>\n",
       "      <td>21.19</td>\n",
       "      <td>61.0</td>\n",
       "      <td>82.0</td>\n",
       "      <td>38.0</td>\n",
       "      <td>39.0</td>\n",
       "      <td>35</td>\n",
       "    </tr>\n",
       "    <tr>\n",
       "      <th>2220</th>\n",
       "      <td>1</td>\n",
       "      <td>52</td>\n",
       "      <td>1</td>\n",
       "      <td>1</td>\n",
       "      <td>35.0</td>\n",
       "      <td>0.0</td>\n",
       "      <td>0</td>\n",
       "      <td>1</td>\n",
       "      <td>1</td>\n",
       "      <td>281.0</td>\n",
       "      <td>133.0</td>\n",
       "      <td>93.0</td>\n",
       "      <td>32.27</td>\n",
       "      <td>115.0</td>\n",
       "      <td>80.0</td>\n",
       "      <td>50.0</td>\n",
       "      <td>51.0</td>\n",
       "      <td>50</td>\n",
       "    </tr>\n",
       "    <tr>\n",
       "      <th>2279</th>\n",
       "      <td>1</td>\n",
       "      <td>44</td>\n",
       "      <td>1</td>\n",
       "      <td>1</td>\n",
       "      <td>25.0</td>\n",
       "      <td>0.0</td>\n",
       "      <td>0</td>\n",
       "      <td>0</td>\n",
       "      <td>1</td>\n",
       "      <td>241.0</td>\n",
       "      <td>111.0</td>\n",
       "      <td>78.0</td>\n",
       "      <td>27.78</td>\n",
       "      <td>85.0</td>\n",
       "      <td>167.0</td>\n",
       "      <td>42.0</td>\n",
       "      <td>42.0</td>\n",
       "      <td>40</td>\n",
       "    </tr>\n",
       "    <tr>\n",
       "      <th>2299</th>\n",
       "      <td>0</td>\n",
       "      <td>53</td>\n",
       "      <td>1</td>\n",
       "      <td>0</td>\n",
       "      <td>0.0</td>\n",
       "      <td>1.0</td>\n",
       "      <td>0</td>\n",
       "      <td>1</td>\n",
       "      <td>1</td>\n",
       "      <td>311.0</td>\n",
       "      <td>206.0</td>\n",
       "      <td>92.0</td>\n",
       "      <td>21.51</td>\n",
       "      <td>76.0</td>\n",
       "      <td>215.0</td>\n",
       "      <td>52.0</td>\n",
       "      <td>51.0</td>\n",
       "      <td>50</td>\n",
       "    </tr>\n",
       "    <tr>\n",
       "      <th>2333</th>\n",
       "      <td>1</td>\n",
       "      <td>59</td>\n",
       "      <td>1</td>\n",
       "      <td>0</td>\n",
       "      <td>0.0</td>\n",
       "      <td>0.0</td>\n",
       "      <td>0</td>\n",
       "      <td>0</td>\n",
       "      <td>1</td>\n",
       "      <td>314.0</td>\n",
       "      <td>135.0</td>\n",
       "      <td>77.5</td>\n",
       "      <td>22.17</td>\n",
       "      <td>75.0</td>\n",
       "      <td>170.0</td>\n",
       "      <td>58.0</td>\n",
       "      <td>57.0</td>\n",
       "      <td>55</td>\n",
       "    </tr>\n",
       "    <tr>\n",
       "      <th>3049</th>\n",
       "      <td>1</td>\n",
       "      <td>39</td>\n",
       "      <td>0</td>\n",
       "      <td>1</td>\n",
       "      <td>20.0</td>\n",
       "      <td>0.0</td>\n",
       "      <td>0</td>\n",
       "      <td>0</td>\n",
       "      <td>1</td>\n",
       "      <td>195.0</td>\n",
       "      <td>106.0</td>\n",
       "      <td>80.0</td>\n",
       "      <td>23.57</td>\n",
       "      <td>85.0</td>\n",
       "      <td>132.0</td>\n",
       "      <td>38.0</td>\n",
       "      <td>36.0</td>\n",
       "      <td>35</td>\n",
       "    </tr>\n",
       "    <tr>\n",
       "      <th>3079</th>\n",
       "      <td>0</td>\n",
       "      <td>62</td>\n",
       "      <td>1</td>\n",
       "      <td>1</td>\n",
       "      <td>20.0</td>\n",
       "      <td>1.0</td>\n",
       "      <td>0</td>\n",
       "      <td>1</td>\n",
       "      <td>1</td>\n",
       "      <td>358.0</td>\n",
       "      <td>215.0</td>\n",
       "      <td>110.0</td>\n",
       "      <td>37.62</td>\n",
       "      <td>110.0</td>\n",
       "      <td>368.0</td>\n",
       "      <td>60.0</td>\n",
       "      <td>60.0</td>\n",
       "      <td>60</td>\n",
       "    </tr>\n",
       "    <tr>\n",
       "      <th>3106</th>\n",
       "      <td>0</td>\n",
       "      <td>65</td>\n",
       "      <td>0</td>\n",
       "      <td>1</td>\n",
       "      <td>9.0</td>\n",
       "      <td>0.0</td>\n",
       "      <td>0</td>\n",
       "      <td>1</td>\n",
       "      <td>1</td>\n",
       "      <td>271.0</td>\n",
       "      <td>144.5</td>\n",
       "      <td>88.0</td>\n",
       "      <td>32.41</td>\n",
       "      <td>82.0</td>\n",
       "      <td>116.0</td>\n",
       "      <td>64.0</td>\n",
       "      <td>63.0</td>\n",
       "      <td>60</td>\n",
       "    </tr>\n",
       "  </tbody>\n",
       "</table>\n",
       "</div>"
      ],
      "text/plain": [
       "      male  age  education  currentSmoker  cigsPerDay  BPMeds   \n",
       "12       0   43          0              0         0.0     0.0  \\\n",
       "135      1   49          0              0         0.0     0.0   \n",
       "208      1   66          0              1        30.0     0.0   \n",
       "314      1   33          1              0         0.0     0.0   \n",
       "796      1   44          0              0         0.0     0.0   \n",
       "869      1   66          1              1        20.0     0.0   \n",
       "927      1   64          1              0         0.0     0.0   \n",
       "941      0   39          1              0         0.0     0.0   \n",
       "959      1   45          1              0         0.0     0.0   \n",
       "1106     1   62          0              1        20.0     0.0   \n",
       "1176     0   50          1              1         9.0     0.0   \n",
       "1617     1   59          0              1         3.0     0.0   \n",
       "1668     0   60          0              1        20.0     0.0   \n",
       "1904     0   59          1              1        15.0     0.0   \n",
       "1943     0   44          1              0         0.0     0.0   \n",
       "2103     1   57          1              1        15.0     0.0   \n",
       "2163     0   40          0              1        20.0     0.0   \n",
       "2220     1   52          1              1        35.0     0.0   \n",
       "2279     1   44          1              1        25.0     0.0   \n",
       "2299     0   53          1              0         0.0     1.0   \n",
       "2333     1   59          1              0         0.0     0.0   \n",
       "3049     1   39          0              1        20.0     0.0   \n",
       "3079     0   62          1              1        20.0     1.0   \n",
       "3106     0   65          0              1         9.0     0.0   \n",
       "\n",
       "      prevalentStroke  prevalentHyp  diabetes  totChol  sysBP  diaBP    BMI   \n",
       "12                  0             1         1    231.0  155.5   99.5  34.95  \\\n",
       "135                 0             0         1    248.0  130.5   82.0  27.29   \n",
       "208                 0             0         1    234.0  114.5   62.5  28.62   \n",
       "314                 0             0         0    165.0  136.0   75.0  24.95   \n",
       "796                 0             1         1    208.0  175.0  101.0  27.93   \n",
       "869                 0             1         0    273.0  145.0   88.0  25.41   \n",
       "927                 0             0         1    251.0  133.0   72.5  24.28   \n",
       "941                 0             0         1    209.0  104.0   72.0  23.96   \n",
       "959                 0             0         1    189.0  132.0   78.0  28.40   \n",
       "1106                0             1         1    194.0  151.5   88.0  21.61   \n",
       "1176                0             0         1    210.0  134.0   80.0  18.26   \n",
       "1617                0             1         1    230.0  182.0  102.0  25.91   \n",
       "1668                0             0         1    180.0  200.0  122.5  44.27   \n",
       "1904                0             0         1    342.0  137.0   83.5  25.18   \n",
       "1943                0             1         1    254.0  145.0   85.0  21.27   \n",
       "2103                0             0         1    245.0  132.0   77.0  23.01   \n",
       "2163                0             0         1    237.0  114.0   65.0  21.19   \n",
       "2220                0             1         1    281.0  133.0   93.0  32.27   \n",
       "2279                0             0         1    241.0  111.0   78.0  27.78   \n",
       "2299                0             1         1    311.0  206.0   92.0  21.51   \n",
       "2333                0             0         1    314.0  135.0   77.5  22.17   \n",
       "3049                0             0         1    195.0  106.0   80.0  23.57   \n",
       "3079                0             1         1    358.0  215.0  110.0  37.62   \n",
       "3106                0             1         1    271.0  144.5   88.0  32.41   \n",
       "\n",
       "      heartRate  glucose  age2  age3  age5  \n",
       "12         68.0    274.0  42.0  42.0    40  \n",
       "135        52.0    254.0  48.0  48.0    45  \n",
       "208        75.0    216.0  64.0  63.0    65  \n",
       "314        88.0     90.0  32.0  30.0    30  \n",
       "796        95.0    193.0  42.0  42.0    40  \n",
       "869        69.0     74.0  64.0  63.0    65  \n",
       "927        65.0     86.0  62.0  63.0    60  \n",
       "941        90.0    103.0  38.0  36.0    35  \n",
       "959        75.0    177.0  44.0  42.0    40  \n",
       "1106       75.0    105.0  60.0  60.0    60  \n",
       "1176       64.0     82.0  48.0  48.0    45  \n",
       "1617       66.0    147.0  58.0  57.0    55  \n",
       "1668       88.0    150.0  58.0  57.0    55  \n",
       "1904       86.0    140.0  58.0  57.0    55  \n",
       "1943       75.0    137.0  42.0  42.0    40  \n",
       "2103       76.0    207.0  56.0  54.0    55  \n",
       "2163       61.0     82.0  38.0  39.0    35  \n",
       "2220      115.0     80.0  50.0  51.0    50  \n",
       "2279       85.0    167.0  42.0  42.0    40  \n",
       "2299       76.0    215.0  52.0  51.0    50  \n",
       "2333       75.0    170.0  58.0  57.0    55  \n",
       "3049       85.0    132.0  38.0  36.0    35  \n",
       "3079      110.0    368.0  60.0  60.0    60  \n",
       "3106       82.0    116.0  64.0  63.0    60  "
      ]
     },
     "execution_count": 444,
     "metadata": {},
     "output_type": "execute_result"
    }
   ],
   "source": [
    "data_transf.loc[(data_transf.groupby(['male', 'age5', 'education', 'currentSmoker', 'diabetes']).transform('size')==1)]"
   ]
  },
  {
   "cell_type": "markdown",
   "metadata": {},
   "source": [
    "The highest risk sample corresponds to the individuals with diabetes, which is due to the smaller number of individuals with this health condition! Instead of suppressing all records, we can use **local recoding**, i.e., apply different levels of generalization to this set, namely higher levels. "
   ]
  },
  {
   "cell_type": "code",
   "execution_count": 445,
   "metadata": {},
   "outputs": [],
   "source": [
    "def local_recoding(df, column, interval, indexes):\n",
    "    '''\n",
    "    Local recoding by applying the lowest value of the interval\n",
    "    df: dataframe\n",
    "    column (string): name of the column to transform\n",
    "    interval (interger): limit of the interval\n",
    "    indexes (list of integers): list of indexes to recod\n",
    "    '''\n",
    "    bins = list(range(min(df[column])-(min(df[column])%interval), max(df[column]) + interval, interval))\n",
    "    labels = ['%d' % bins[i] for i in range(0, len(bins) - 1)]\n",
    "    lab = pd.cut(df[column], bins=bins, labels=labels, include_lowest=True).astype(int)\n",
    "    for i in range(0, len(data_transf)):\n",
    "        if i in indexes:\n",
    "            df.loc[i, column+'local'+str(interval)] = lab[i]\n",
    "        else:\n",
    "            df.loc[i, column+'local'+str(interval)] = df.loc[i, column]\n",
    "    return df"
   ]
  },
  {
   "cell_type": "code",
   "execution_count": 446,
   "metadata": {},
   "outputs": [],
   "source": [
    "indexes_to_recod_smoke= data_transf.loc[(data_transf.groupby(['male', 'age5', 'education', 'currentSmoker']).transform('size')==1)].index"
   ]
  },
  {
   "cell_type": "code",
   "execution_count": 447,
   "metadata": {},
   "outputs": [],
   "source": [
    "indexes_to_recod_diabetes= data_transf.loc[(data_transf.groupby(['male', 'age5', 'education', 'currentSmoker', 'diabetes']).transform('size')==1)].index"
   ]
  },
  {
   "cell_type": "code",
   "execution_count": 465,
   "metadata": {},
   "outputs": [],
   "source": [
    "# Join indexes in an unique list\n",
    "indexes_to_recod = set(indexes_to_recod_diabetes.append(indexes_to_recod_smoke))"
   ]
  },
  {
   "cell_type": "code",
   "execution_count": 449,
   "metadata": {},
   "outputs": [],
   "source": [
    "# Apply local recoding with an interval of 10\n",
    "data_transf = local_recoding(data_transf, 'age5', 10, indexes_to_recod)\n",
    "data_transf.age5local10 = data_transf.age5local10.apply(lambda x: int(x))"
   ]
  },
  {
   "cell_type": "code",
   "execution_count": 450,
   "metadata": {},
   "outputs": [
    {
     "name": "stdout",
     "output_type": "stream",
     "text": [
      "risk = 0.0%; fk1 = 0\n"
     ]
    }
   ],
   "source": [
    "identity_risk(['male', 'age5local10', 'education', 'currentSmoker'], data_transf)"
   ]
  },
  {
   "cell_type": "code",
   "execution_count": 451,
   "metadata": {},
   "outputs": [
    {
     "name": "stdout",
     "output_type": "stream",
     "text": [
      "risk = 0.39%; fk1 = 13\n"
     ]
    }
   ],
   "source": [
    "identity_risk(['male', 'age5local10', 'education', 'currentSmoker', 'diabetes'], data_transf)"
   ]
  },
  {
   "cell_type": "code",
   "execution_count": 452,
   "metadata": {},
   "outputs": [
    {
     "data": {
      "text/html": [
       "<div>\n",
       "<style scoped>\n",
       "    .dataframe tbody tr th:only-of-type {\n",
       "        vertical-align: middle;\n",
       "    }\n",
       "\n",
       "    .dataframe tbody tr th {\n",
       "        vertical-align: top;\n",
       "    }\n",
       "\n",
       "    .dataframe thead th {\n",
       "        text-align: right;\n",
       "    }\n",
       "</style>\n",
       "<table border=\"1\" class=\"dataframe\">\n",
       "  <thead>\n",
       "    <tr style=\"text-align: right;\">\n",
       "      <th></th>\n",
       "      <th>male</th>\n",
       "      <th>age</th>\n",
       "      <th>education</th>\n",
       "      <th>currentSmoker</th>\n",
       "      <th>cigsPerDay</th>\n",
       "      <th>BPMeds</th>\n",
       "      <th>prevalentStroke</th>\n",
       "      <th>prevalentHyp</th>\n",
       "      <th>diabetes</th>\n",
       "      <th>totChol</th>\n",
       "      <th>sysBP</th>\n",
       "      <th>diaBP</th>\n",
       "      <th>BMI</th>\n",
       "      <th>heartRate</th>\n",
       "      <th>glucose</th>\n",
       "      <th>age2</th>\n",
       "      <th>age3</th>\n",
       "      <th>age5</th>\n",
       "      <th>age5local10</th>\n",
       "    </tr>\n",
       "  </thead>\n",
       "  <tbody>\n",
       "    <tr>\n",
       "      <th>12</th>\n",
       "      <td>0</td>\n",
       "      <td>43</td>\n",
       "      <td>0</td>\n",
       "      <td>0</td>\n",
       "      <td>0.0</td>\n",
       "      <td>0.0</td>\n",
       "      <td>0</td>\n",
       "      <td>1</td>\n",
       "      <td>1</td>\n",
       "      <td>231.0</td>\n",
       "      <td>155.5</td>\n",
       "      <td>99.5</td>\n",
       "      <td>34.95</td>\n",
       "      <td>68.0</td>\n",
       "      <td>274.0</td>\n",
       "      <td>42.0</td>\n",
       "      <td>42.0</td>\n",
       "      <td>40</td>\n",
       "      <td>30</td>\n",
       "    </tr>\n",
       "    <tr>\n",
       "      <th>135</th>\n",
       "      <td>1</td>\n",
       "      <td>49</td>\n",
       "      <td>0</td>\n",
       "      <td>0</td>\n",
       "      <td>0.0</td>\n",
       "      <td>0.0</td>\n",
       "      <td>0</td>\n",
       "      <td>0</td>\n",
       "      <td>1</td>\n",
       "      <td>248.0</td>\n",
       "      <td>130.5</td>\n",
       "      <td>82.0</td>\n",
       "      <td>27.29</td>\n",
       "      <td>52.0</td>\n",
       "      <td>254.0</td>\n",
       "      <td>48.0</td>\n",
       "      <td>48.0</td>\n",
       "      <td>45</td>\n",
       "      <td>40</td>\n",
       "    </tr>\n",
       "    <tr>\n",
       "      <th>208</th>\n",
       "      <td>1</td>\n",
       "      <td>66</td>\n",
       "      <td>0</td>\n",
       "      <td>1</td>\n",
       "      <td>30.0</td>\n",
       "      <td>0.0</td>\n",
       "      <td>0</td>\n",
       "      <td>0</td>\n",
       "      <td>1</td>\n",
       "      <td>234.0</td>\n",
       "      <td>114.5</td>\n",
       "      <td>62.5</td>\n",
       "      <td>28.62</td>\n",
       "      <td>75.0</td>\n",
       "      <td>216.0</td>\n",
       "      <td>64.0</td>\n",
       "      <td>63.0</td>\n",
       "      <td>65</td>\n",
       "      <td>60</td>\n",
       "    </tr>\n",
       "    <tr>\n",
       "      <th>314</th>\n",
       "      <td>1</td>\n",
       "      <td>33</td>\n",
       "      <td>1</td>\n",
       "      <td>0</td>\n",
       "      <td>0.0</td>\n",
       "      <td>0.0</td>\n",
       "      <td>0</td>\n",
       "      <td>0</td>\n",
       "      <td>0</td>\n",
       "      <td>165.0</td>\n",
       "      <td>136.0</td>\n",
       "      <td>75.0</td>\n",
       "      <td>24.95</td>\n",
       "      <td>88.0</td>\n",
       "      <td>90.0</td>\n",
       "      <td>32.0</td>\n",
       "      <td>30.0</td>\n",
       "      <td>30</td>\n",
       "      <td>30</td>\n",
       "    </tr>\n",
       "    <tr>\n",
       "      <th>796</th>\n",
       "      <td>1</td>\n",
       "      <td>44</td>\n",
       "      <td>0</td>\n",
       "      <td>0</td>\n",
       "      <td>0.0</td>\n",
       "      <td>0.0</td>\n",
       "      <td>0</td>\n",
       "      <td>1</td>\n",
       "      <td>1</td>\n",
       "      <td>208.0</td>\n",
       "      <td>175.0</td>\n",
       "      <td>101.0</td>\n",
       "      <td>27.93</td>\n",
       "      <td>95.0</td>\n",
       "      <td>193.0</td>\n",
       "      <td>42.0</td>\n",
       "      <td>42.0</td>\n",
       "      <td>40</td>\n",
       "      <td>30</td>\n",
       "    </tr>\n",
       "    <tr>\n",
       "      <th>959</th>\n",
       "      <td>1</td>\n",
       "      <td>45</td>\n",
       "      <td>1</td>\n",
       "      <td>0</td>\n",
       "      <td>0.0</td>\n",
       "      <td>0.0</td>\n",
       "      <td>0</td>\n",
       "      <td>0</td>\n",
       "      <td>1</td>\n",
       "      <td>189.0</td>\n",
       "      <td>132.0</td>\n",
       "      <td>78.0</td>\n",
       "      <td>28.40</td>\n",
       "      <td>75.0</td>\n",
       "      <td>177.0</td>\n",
       "      <td>44.0</td>\n",
       "      <td>42.0</td>\n",
       "      <td>40</td>\n",
       "      <td>30</td>\n",
       "    </tr>\n",
       "    <tr>\n",
       "      <th>1176</th>\n",
       "      <td>0</td>\n",
       "      <td>50</td>\n",
       "      <td>1</td>\n",
       "      <td>1</td>\n",
       "      <td>9.0</td>\n",
       "      <td>0.0</td>\n",
       "      <td>0</td>\n",
       "      <td>0</td>\n",
       "      <td>1</td>\n",
       "      <td>210.0</td>\n",
       "      <td>134.0</td>\n",
       "      <td>80.0</td>\n",
       "      <td>18.26</td>\n",
       "      <td>64.0</td>\n",
       "      <td>82.0</td>\n",
       "      <td>48.0</td>\n",
       "      <td>48.0</td>\n",
       "      <td>45</td>\n",
       "      <td>40</td>\n",
       "    </tr>\n",
       "    <tr>\n",
       "      <th>2103</th>\n",
       "      <td>1</td>\n",
       "      <td>57</td>\n",
       "      <td>1</td>\n",
       "      <td>1</td>\n",
       "      <td>15.0</td>\n",
       "      <td>0.0</td>\n",
       "      <td>0</td>\n",
       "      <td>0</td>\n",
       "      <td>1</td>\n",
       "      <td>245.0</td>\n",
       "      <td>132.0</td>\n",
       "      <td>77.0</td>\n",
       "      <td>23.01</td>\n",
       "      <td>76.0</td>\n",
       "      <td>207.0</td>\n",
       "      <td>56.0</td>\n",
       "      <td>54.0</td>\n",
       "      <td>55</td>\n",
       "      <td>50</td>\n",
       "    </tr>\n",
       "    <tr>\n",
       "      <th>2163</th>\n",
       "      <td>0</td>\n",
       "      <td>40</td>\n",
       "      <td>0</td>\n",
       "      <td>1</td>\n",
       "      <td>20.0</td>\n",
       "      <td>0.0</td>\n",
       "      <td>0</td>\n",
       "      <td>0</td>\n",
       "      <td>1</td>\n",
       "      <td>237.0</td>\n",
       "      <td>114.0</td>\n",
       "      <td>65.0</td>\n",
       "      <td>21.19</td>\n",
       "      <td>61.0</td>\n",
       "      <td>82.0</td>\n",
       "      <td>38.0</td>\n",
       "      <td>39.0</td>\n",
       "      <td>35</td>\n",
       "      <td>30</td>\n",
       "    </tr>\n",
       "    <tr>\n",
       "      <th>2220</th>\n",
       "      <td>1</td>\n",
       "      <td>52</td>\n",
       "      <td>1</td>\n",
       "      <td>1</td>\n",
       "      <td>35.0</td>\n",
       "      <td>0.0</td>\n",
       "      <td>0</td>\n",
       "      <td>1</td>\n",
       "      <td>1</td>\n",
       "      <td>281.0</td>\n",
       "      <td>133.0</td>\n",
       "      <td>93.0</td>\n",
       "      <td>32.27</td>\n",
       "      <td>115.0</td>\n",
       "      <td>80.0</td>\n",
       "      <td>50.0</td>\n",
       "      <td>51.0</td>\n",
       "      <td>50</td>\n",
       "      <td>40</td>\n",
       "    </tr>\n",
       "    <tr>\n",
       "      <th>2279</th>\n",
       "      <td>1</td>\n",
       "      <td>44</td>\n",
       "      <td>1</td>\n",
       "      <td>1</td>\n",
       "      <td>25.0</td>\n",
       "      <td>0.0</td>\n",
       "      <td>0</td>\n",
       "      <td>0</td>\n",
       "      <td>1</td>\n",
       "      <td>241.0</td>\n",
       "      <td>111.0</td>\n",
       "      <td>78.0</td>\n",
       "      <td>27.78</td>\n",
       "      <td>85.0</td>\n",
       "      <td>167.0</td>\n",
       "      <td>42.0</td>\n",
       "      <td>42.0</td>\n",
       "      <td>40</td>\n",
       "      <td>30</td>\n",
       "    </tr>\n",
       "    <tr>\n",
       "      <th>2299</th>\n",
       "      <td>0</td>\n",
       "      <td>53</td>\n",
       "      <td>1</td>\n",
       "      <td>0</td>\n",
       "      <td>0.0</td>\n",
       "      <td>1.0</td>\n",
       "      <td>0</td>\n",
       "      <td>1</td>\n",
       "      <td>1</td>\n",
       "      <td>311.0</td>\n",
       "      <td>206.0</td>\n",
       "      <td>92.0</td>\n",
       "      <td>21.51</td>\n",
       "      <td>76.0</td>\n",
       "      <td>215.0</td>\n",
       "      <td>52.0</td>\n",
       "      <td>51.0</td>\n",
       "      <td>50</td>\n",
       "      <td>40</td>\n",
       "    </tr>\n",
       "    <tr>\n",
       "      <th>3049</th>\n",
       "      <td>1</td>\n",
       "      <td>39</td>\n",
       "      <td>0</td>\n",
       "      <td>1</td>\n",
       "      <td>20.0</td>\n",
       "      <td>0.0</td>\n",
       "      <td>0</td>\n",
       "      <td>0</td>\n",
       "      <td>1</td>\n",
       "      <td>195.0</td>\n",
       "      <td>106.0</td>\n",
       "      <td>80.0</td>\n",
       "      <td>23.57</td>\n",
       "      <td>85.0</td>\n",
       "      <td>132.0</td>\n",
       "      <td>38.0</td>\n",
       "      <td>36.0</td>\n",
       "      <td>35</td>\n",
       "      <td>30</td>\n",
       "    </tr>\n",
       "  </tbody>\n",
       "</table>\n",
       "</div>"
      ],
      "text/plain": [
       "      male  age  education  currentSmoker  cigsPerDay  BPMeds   \n",
       "12       0   43          0              0         0.0     0.0  \\\n",
       "135      1   49          0              0         0.0     0.0   \n",
       "208      1   66          0              1        30.0     0.0   \n",
       "314      1   33          1              0         0.0     0.0   \n",
       "796      1   44          0              0         0.0     0.0   \n",
       "959      1   45          1              0         0.0     0.0   \n",
       "1176     0   50          1              1         9.0     0.0   \n",
       "2103     1   57          1              1        15.0     0.0   \n",
       "2163     0   40          0              1        20.0     0.0   \n",
       "2220     1   52          1              1        35.0     0.0   \n",
       "2279     1   44          1              1        25.0     0.0   \n",
       "2299     0   53          1              0         0.0     1.0   \n",
       "3049     1   39          0              1        20.0     0.0   \n",
       "\n",
       "      prevalentStroke  prevalentHyp  diabetes  totChol  sysBP  diaBP    BMI   \n",
       "12                  0             1         1    231.0  155.5   99.5  34.95  \\\n",
       "135                 0             0         1    248.0  130.5   82.0  27.29   \n",
       "208                 0             0         1    234.0  114.5   62.5  28.62   \n",
       "314                 0             0         0    165.0  136.0   75.0  24.95   \n",
       "796                 0             1         1    208.0  175.0  101.0  27.93   \n",
       "959                 0             0         1    189.0  132.0   78.0  28.40   \n",
       "1176                0             0         1    210.0  134.0   80.0  18.26   \n",
       "2103                0             0         1    245.0  132.0   77.0  23.01   \n",
       "2163                0             0         1    237.0  114.0   65.0  21.19   \n",
       "2220                0             1         1    281.0  133.0   93.0  32.27   \n",
       "2279                0             0         1    241.0  111.0   78.0  27.78   \n",
       "2299                0             1         1    311.0  206.0   92.0  21.51   \n",
       "3049                0             0         1    195.0  106.0   80.0  23.57   \n",
       "\n",
       "      heartRate  glucose  age2  age3  age5  age5local10  \n",
       "12         68.0    274.0  42.0  42.0    40           30  \n",
       "135        52.0    254.0  48.0  48.0    45           40  \n",
       "208        75.0    216.0  64.0  63.0    65           60  \n",
       "314        88.0     90.0  32.0  30.0    30           30  \n",
       "796        95.0    193.0  42.0  42.0    40           30  \n",
       "959        75.0    177.0  44.0  42.0    40           30  \n",
       "1176       64.0     82.0  48.0  48.0    45           40  \n",
       "2103       76.0    207.0  56.0  54.0    55           50  \n",
       "2163       61.0     82.0  38.0  39.0    35           30  \n",
       "2220      115.0     80.0  50.0  51.0    50           40  \n",
       "2279       85.0    167.0  42.0  42.0    40           30  \n",
       "2299       76.0    215.0  52.0  51.0    50           40  \n",
       "3049       85.0    132.0  38.0  36.0    35           30  "
      ]
     },
     "execution_count": 452,
     "metadata": {},
     "output_type": "execute_result"
    }
   ],
   "source": [
    "data_transf.loc[(data_transf.groupby(['male', 'age5local10', 'education', 'currentSmoker', 'diabetes']).transform('size')==1)]"
   ]
  },
  {
   "cell_type": "code",
   "execution_count": 453,
   "metadata": {},
   "outputs": [],
   "source": [
    "data_transf = local_recoding(data_transf, 'age5', 15, indexes_to_recod)\n",
    "data_transf.age5local15 = data_transf.age5local15.apply(lambda x: int(x))"
   ]
  },
  {
   "cell_type": "code",
   "execution_count": 454,
   "metadata": {},
   "outputs": [
    {
     "name": "stdout",
     "output_type": "stream",
     "text": [
      "risk = 0.27%; fk1 = 9\n"
     ]
    }
   ],
   "source": [
    "identity_risk(['male', 'age5local15', 'education', 'currentSmoker', 'diabetes'], data_transf)"
   ]
  },
  {
   "cell_type": "markdown",
   "metadata": {},
   "source": [
    "Increasing even more the range of *age*, will result in a higher information loss without a relevant reduction in re-identification risk! Let's keep local recoding with an interval of 10."
   ]
  },
  {
   "cell_type": "code",
   "execution_count": 455,
   "metadata": {},
   "outputs": [
    {
     "name": "stdout",
     "output_type": "stream",
     "text": [
      "risk = 0.0%; fk1 = 0\n"
     ]
    }
   ],
   "source": [
    "identity_risk(['male', 'age5local10', 'education', 'currentSmoker'], data_transf)"
   ]
  },
  {
   "cell_type": "code",
   "execution_count": 456,
   "metadata": {},
   "outputs": [
    {
     "name": "stdout",
     "output_type": "stream",
     "text": [
      "risk = 0.0%; fk1 = 0\n"
     ]
    }
   ],
   "source": [
    "identity_risk(['male', 'education', 'currentSmoker', 'diabetes'], data_transf)"
   ]
  },
  {
   "cell_type": "code",
   "execution_count": 457,
   "metadata": {},
   "outputs": [
    {
     "name": "stdout",
     "output_type": "stream",
     "text": [
      "risk = 0.0%; fk1 = 0\n"
     ]
    }
   ],
   "source": [
    "identity_risk(['male', 'age5local10', 'diabetes'], data_transf)"
   ]
  },
  {
   "cell_type": "markdown",
   "metadata": {},
   "source": [
    "As the re-identification risk only increases with the addition of *diabetes* to the remaining QIs, we can suppress the values that are at risk for this attribute."
   ]
  },
  {
   "cell_type": "code",
   "execution_count": 458,
   "metadata": {},
   "outputs": [],
   "source": [
    "indexes_to_remove = data_transf.loc[(data_transf.groupby(['male', 'age5local10', 'education', 'currentSmoker', 'diabetes']).transform('size')==1)].index"
   ]
  },
  {
   "cell_type": "code",
   "execution_count": 459,
   "metadata": {},
   "outputs": [],
   "source": [
    "data_transf['diabetes'] = np.where(np.isin(data_transf.index, indexes_to_remove), np.nan, data_transf['diabetes'])"
   ]
  },
  {
   "cell_type": "code",
   "execution_count": 466,
   "metadata": {},
   "outputs": [
    {
     "name": "stdout",
     "output_type": "stream",
     "text": [
      "risk = 0.0%; fk1 = 0\n"
     ]
    }
   ],
   "source": [
    "identity_risk(['male', 'age5local10', 'education', 'currentSmoker', 'diabetes'], data_transf)"
   ]
  },
  {
   "cell_type": "code",
   "execution_count": 460,
   "metadata": {},
   "outputs": [],
   "source": [
    "# Replace the original attributes with the transformed values\n",
    "final_data = X_train.copy().reset_index(drop=True)\n",
    "final_data['age'] = data_transf['age5local10']\n",
    "final_data['diabetes'] = data_transf['diabetes']"
   ]
  },
  {
   "cell_type": "code",
   "execution_count": 461,
   "metadata": {},
   "outputs": [],
   "source": [
    "# Predictive performance for the transformed data\n",
    "transf_preds = modeling(final_data, X_test, y_train)"
   ]
  },
  {
   "cell_type": "code",
   "execution_count": 462,
   "metadata": {},
   "outputs": [
    {
     "data": {
      "text/plain": [
       "0.8222490931076178"
      ]
     },
     "execution_count": 462,
     "metadata": {},
     "output_type": "execute_result"
    }
   ],
   "source": [
    "accuracy_score(y_test, transf_preds)"
   ]
  },
  {
   "cell_type": "markdown",
   "metadata": {},
   "source": [
    "Let's find the losses for predictive performance by calculating the percentage difference between the original and the transformed data.\n",
    "\n",
    "$(R_a - R_b) / R_b * 100$, where a is the transformed and $b$ is the baseline (original result)"
   ]
  },
  {
   "cell_type": "code",
   "execution_count": 464,
   "metadata": {},
   "outputs": [
    {
     "data": {
      "text/plain": [
       "-0.14684287812041844"
      ]
     },
     "execution_count": 464,
     "metadata": {},
     "output_type": "execute_result"
    }
   ],
   "source": [
    "(0.8222490931076178 - 0.8234582829504232) / 0.8234582829504232 *100"
   ]
  },
  {
   "cell_type": "markdown",
   "metadata": {},
   "source": [
    "With an interval of 5 in *age* for the majority of the records, local recoding of range 10 and suppression for a small part of the data, we obtain an information loss of 0.14%, which it seems to be an aceptable loss given the reduction in re-identification risk."
   ]
  },
  {
   "cell_type": "markdown",
   "metadata": {},
   "source": [
    "### Additional notes"
   ]
  },
  {
   "cell_type": "markdown",
   "metadata": {},
   "source": [
    "- **QIs selection**\n",
    "    - Althoug we lected a set of QIs for privacy risk analysis, the information that an intruder may posses is unkown, and thus it is **crucial** to simulate several scenarios of a potential re-identification attack;\n",
    "- **PPTs application**\n",
    "    - Lower generalization intervals allows maintaining data utility more closer to the original;\n",
    "    - Suppression causes higher information losses, therefore should be used as a last alternative;\n",
    "    - Applying suppression in a numerical attribute using '*' will transform it into a categorical attribute, but using NaN could be a problem to analyze predicitve performance as it is not accepted for many machine learning models;\n",
    "    - $k$-anonymity is not the best choice to evaluate the risk for perturbative techniques or synthetic data;\n",
    "- **Evaluation**\n",
    "    - Achieving a re-identification risk of 0% is difficult and often comes at a huge cost in utility;\n",
    "    - It is probable that a *residual risk* of re-identification still remains after the transformations;\n",
    "    - The *residual risk* should be carefully analyzed to determine whether we can take the inherent risks of sharing or publishing the data;\n",
    "    - Different privacy measures should be used for a better privacy risk evaluation."
   ]
  },
  {
   "cell_type": "code",
   "execution_count": null,
   "metadata": {},
   "outputs": [],
   "source": [
    "# How to add noise\n",
    "'''\n",
    "noise = randint(-2,2, len(data_transf))\n",
    "data_transf[column_transf] = data_transf[column]\n",
    "\n",
    "for i in range(0, len(data_transf)):\n",
    "    if noise[i] != 0:\n",
    "        data_transf.loc[i, column_transf] = data_transf.loc[i, column] + noise[i]    \n",
    "'''"
   ]
  },
  {
   "cell_type": "code",
   "execution_count": null,
   "metadata": {},
   "outputs": [],
   "source": []
  }
 ],
 "metadata": {
  "kernelspec": {
   "display_name": "Python 3 (ipykernel)",
   "language": "python",
   "name": "python3"
  },
  "language_info": {
   "codemirror_mode": {
    "name": "ipython",
    "version": 3
   },
   "file_extension": ".py",
   "mimetype": "text/x-python",
   "name": "python",
   "nbconvert_exporter": "python",
   "pygments_lexer": "ipython3",
   "version": "3.10.9"
  }
 },
 "nbformat": 4,
 "nbformat_minor": 2
}
